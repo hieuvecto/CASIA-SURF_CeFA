{
 "cells": [
  {
   "cell_type": "markdown",
   "metadata": {},
   "source": [
    "# 1. Load config and variables"
   ]
  },
  {
   "cell_type": "code",
   "execution_count": 1,
   "metadata": {},
   "outputs": [],
   "source": [
    "%config IPCompleter.greedy=True\n",
    "%matplotlib inline"
   ]
  },
  {
   "cell_type": "code",
   "execution_count": 9,
   "metadata": {},
   "outputs": [],
   "source": [
    "import pandas as pd\n",
    "import random"
   ]
  },
  {
   "cell_type": "code",
   "execution_count": 3,
   "metadata": {},
   "outputs": [],
   "source": [
    "# Define a dictionary containing employee data  \n",
    "data1 = {'Name':['Jai', 'Anuj', 'Jai', 'Princi',  \n",
    "                 'Gaurav', 'Anuj', 'Princi', 'Abhi'],  \n",
    "        'Age':[27, 24, 22, 32,  \n",
    "               33, 36, 27, 32],  \n",
    "        'Address':['Nagpur', 'Kanpur', 'Allahabad', 'Kannuaj', \n",
    "                   'Jaunpur', 'Kanpur', 'Allahabad', 'Aligarh'],  \n",
    "        'Qualification':['Msc', 'MA', 'MCA', 'Phd', \n",
    "                         'B.Tech', 'B.com', 'Msc', 'MA']}  "
   ]
  }
 ],
 "metadata": {
  "kernelspec": {
   "display_name": "Python 3",
   "language": "python",
   "name": "python3"
  },
  "language_info": {
   "codemirror_mode": {
    "name": "ipython",
    "version": 3
   },
   "file_extension": ".py",
   "mimetype": "text/x-python",
   "name": "python",
   "nbconvert_exporter": "python",
   "pygments_lexer": "ipython3",
   "version": "3.6.9"
  }
 },
 "nbformat": 4,
 "nbformat_minor": 4
}
